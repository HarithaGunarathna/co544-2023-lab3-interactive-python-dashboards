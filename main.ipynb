{
 "cells": [
  {
   "cell_type": "markdown",
   "metadata": {
    "id": "TaVi50UgOU7V"
   },
   "source": [
    "# Import Libraries and Dataset"
   ]
  },
  {
   "cell_type": "code",
   "execution_count": 2,
   "metadata": {
    "colab": {
     "base_uri": "https://localhost:8080/"
    },
    "id": "o8GiNwdiOwpm",
    "outputId": "4ffc9bef-12f6-411e-aa17-998852ef081c"
   },
   "outputs": [],
   "source": [
    "#install dash\n",
    "# !pip3 install dash\n",
    "\n",
    "#installing sklearn\n",
    "#!pip3 install scikit-learn"
   ]
  },
  {
   "cell_type": "code",
   "execution_count": 3,
   "metadata": {
    "colab": {
     "base_uri": "https://localhost:8080/"
    },
    "id": "Qv93wKfDLGGw",
    "outputId": "f8154b3b-bb07-4bfa-a114-ebb3bc0a8580"
   },
   "outputs": [
    {
     "name": "stdout",
     "output_type": "stream",
     "text": [
      "      fixed acidity  volatile acidity  citric acid  residual sugar  chlorides  \\\n",
      "0               7.4             0.700         0.00             1.9      0.076   \n",
      "1               7.8             0.880         0.00             2.6      0.098   \n",
      "2               7.8             0.760         0.04             2.3      0.092   \n",
      "3              11.2             0.280         0.56             1.9      0.075   \n",
      "4               7.4             0.700         0.00             1.9      0.076   \n",
      "...             ...               ...          ...             ...        ...   \n",
      "1594            6.2             0.600         0.08             2.0      0.090   \n",
      "1595            5.9             0.550         0.10             2.2      0.062   \n",
      "1596            6.3             0.510         0.13             2.3      0.076   \n",
      "1597            5.9             0.645         0.12             2.0      0.075   \n",
      "1598            6.0             0.310         0.47             3.6      0.067   \n",
      "\n",
      "      free sulfur dioxide  total sulfur dioxide  density    pH  sulphates  \\\n",
      "0                    11.0                  34.0  0.99780  3.51       0.56   \n",
      "1                    25.0                  67.0  0.99680  3.20       0.68   \n",
      "2                    15.0                  54.0  0.99700  3.26       0.65   \n",
      "3                    17.0                  60.0  0.99800  3.16       0.58   \n",
      "4                    11.0                  34.0  0.99780  3.51       0.56   \n",
      "...                   ...                   ...      ...   ...        ...   \n",
      "1594                 32.0                  44.0  0.99490  3.45       0.58   \n",
      "1595                 39.0                  51.0  0.99512  3.52       0.76   \n",
      "1596                 29.0                  40.0  0.99574  3.42       0.75   \n",
      "1597                 32.0                  44.0  0.99547  3.57       0.71   \n",
      "1598                 18.0                  42.0  0.99549  3.39       0.66   \n",
      "\n",
      "      alcohol  quality  \n",
      "0         9.4        5  \n",
      "1         9.8        5  \n",
      "2         9.8        5  \n",
      "3         9.8        6  \n",
      "4         9.4        5  \n",
      "...       ...      ...  \n",
      "1594     10.5        5  \n",
      "1595     11.2        6  \n",
      "1596     11.0        6  \n",
      "1597     10.2        5  \n",
      "1598     11.0        6  \n",
      "\n",
      "[1599 rows x 12 columns]\n"
     ]
    }
   ],
   "source": [
    "# Numpy\n",
    "import numpy as np\n",
    "\n",
    "# For data analysis\n",
    "import pandas as pd\n",
    "\n",
    "# For model creation and performance evaluation\n",
    "from sklearn.linear_model import LogisticRegression\n",
    "from sklearn.model_selection import train_test_split\n",
    "from sklearn.metrics import classification_report, confusion_matrix\n",
    "from sklearn.metrics import accuracy_score, precision_score, recall_score, f1_score\n",
    "from sklearn.metrics import roc_curve, roc_auc_score\n",
    "\n",
    "# For visualizations and interactive dashboard creation\n",
    "\n",
    "# from jupyter_dash import JupyterDash\n",
    "# import dash_core_components as dcc\n",
    "# import dash_html_components as html\n",
    "# from dash.dependencies import Input, Output\n",
    "\n",
    "import dash\n",
    "from dash import dcc, html\n",
    "from dash.dependencies import Input, Output, State\n",
    "import matplotlib.pyplot as plt\n",
    "import seaborn as sns\n",
    "import plotly.express as px\n",
    "\n",
    "winequality_df = pd.read_csv('https://raw.githubusercontent.com/thusharabandara/co544-2023-lab3-interactive-python-dashboards/master/data/winequality-red.csv', sep=',') #Read the dataset\n",
    "#winequality_df = pd.read_csv('./winequality-red.csv', sep=',') #Read the dataset\n",
    "print(winequality_df)"
   ]
  },
  {
   "cell_type": "markdown",
   "metadata": {
    "id": "eMJNoxEgPqVN"
   },
   "source": [
    "# Exploratory Data Analysis (EDA) and Data Preprocessing"
   ]
  },
  {
   "cell_type": "markdown",
   "metadata": {
    "id": "rrAW_JtgPuVu"
   },
   "source": [
    "## Handling missing values and duplicates"
   ]
  },
  {
   "cell_type": "code",
   "execution_count": 4,
   "metadata": {
    "colab": {
     "base_uri": "https://localhost:8080/",
     "height": 718
    },
    "id": "I64GAbHMP35f",
    "outputId": "f20affe2-2d7d-4db6-8d52-473582a8bc70"
   },
   "outputs": [
    {
     "name": "stdout",
     "output_type": "stream",
     "text": [
      "fixed acidity           0\n",
      "volatile acidity        0\n",
      "citric acid             0\n",
      "residual sugar          0\n",
      "chlorides               0\n",
      "free sulfur dioxide     0\n",
      "total sulfur dioxide    0\n",
      "density                 0\n",
      "pH                      0\n",
      "sulphates               0\n",
      "alcohol                 0\n",
      "quality                 0\n",
      "dtype: int64\n"
     ]
    },
    {
     "data": {
      "text/html": [
       "<div>\n",
       "<style scoped>\n",
       "    .dataframe tbody tr th:only-of-type {\n",
       "        vertical-align: middle;\n",
       "    }\n",
       "\n",
       "    .dataframe tbody tr th {\n",
       "        vertical-align: top;\n",
       "    }\n",
       "\n",
       "    .dataframe thead th {\n",
       "        text-align: right;\n",
       "    }\n",
       "</style>\n",
       "<table border=\"1\" class=\"dataframe\">\n",
       "  <thead>\n",
       "    <tr style=\"text-align: right;\">\n",
       "      <th></th>\n",
       "      <th>fixed acidity</th>\n",
       "      <th>volatile acidity</th>\n",
       "      <th>citric acid</th>\n",
       "      <th>residual sugar</th>\n",
       "      <th>chlorides</th>\n",
       "      <th>free sulfur dioxide</th>\n",
       "      <th>total sulfur dioxide</th>\n",
       "      <th>density</th>\n",
       "      <th>pH</th>\n",
       "      <th>sulphates</th>\n",
       "      <th>alcohol</th>\n",
       "      <th>quality</th>\n",
       "    </tr>\n",
       "  </thead>\n",
       "  <tbody>\n",
       "    <tr>\n",
       "      <th>0</th>\n",
       "      <td>7.4</td>\n",
       "      <td>0.700</td>\n",
       "      <td>0.00</td>\n",
       "      <td>1.9</td>\n",
       "      <td>0.076</td>\n",
       "      <td>11.0</td>\n",
       "      <td>34.0</td>\n",
       "      <td>0.99780</td>\n",
       "      <td>3.51</td>\n",
       "      <td>0.56</td>\n",
       "      <td>9.4</td>\n",
       "      <td>5</td>\n",
       "    </tr>\n",
       "    <tr>\n",
       "      <th>1</th>\n",
       "      <td>7.8</td>\n",
       "      <td>0.880</td>\n",
       "      <td>0.00</td>\n",
       "      <td>2.6</td>\n",
       "      <td>0.098</td>\n",
       "      <td>25.0</td>\n",
       "      <td>67.0</td>\n",
       "      <td>0.99680</td>\n",
       "      <td>3.20</td>\n",
       "      <td>0.68</td>\n",
       "      <td>9.8</td>\n",
       "      <td>5</td>\n",
       "    </tr>\n",
       "    <tr>\n",
       "      <th>2</th>\n",
       "      <td>7.8</td>\n",
       "      <td>0.760</td>\n",
       "      <td>0.04</td>\n",
       "      <td>2.3</td>\n",
       "      <td>0.092</td>\n",
       "      <td>15.0</td>\n",
       "      <td>54.0</td>\n",
       "      <td>0.99700</td>\n",
       "      <td>3.26</td>\n",
       "      <td>0.65</td>\n",
       "      <td>9.8</td>\n",
       "      <td>5</td>\n",
       "    </tr>\n",
       "    <tr>\n",
       "      <th>3</th>\n",
       "      <td>11.2</td>\n",
       "      <td>0.280</td>\n",
       "      <td>0.56</td>\n",
       "      <td>1.9</td>\n",
       "      <td>0.075</td>\n",
       "      <td>17.0</td>\n",
       "      <td>60.0</td>\n",
       "      <td>0.99800</td>\n",
       "      <td>3.16</td>\n",
       "      <td>0.58</td>\n",
       "      <td>9.8</td>\n",
       "      <td>6</td>\n",
       "    </tr>\n",
       "    <tr>\n",
       "      <th>5</th>\n",
       "      <td>7.4</td>\n",
       "      <td>0.660</td>\n",
       "      <td>0.00</td>\n",
       "      <td>1.8</td>\n",
       "      <td>0.075</td>\n",
       "      <td>13.0</td>\n",
       "      <td>40.0</td>\n",
       "      <td>0.99780</td>\n",
       "      <td>3.51</td>\n",
       "      <td>0.56</td>\n",
       "      <td>9.4</td>\n",
       "      <td>5</td>\n",
       "    </tr>\n",
       "    <tr>\n",
       "      <th>...</th>\n",
       "      <td>...</td>\n",
       "      <td>...</td>\n",
       "      <td>...</td>\n",
       "      <td>...</td>\n",
       "      <td>...</td>\n",
       "      <td>...</td>\n",
       "      <td>...</td>\n",
       "      <td>...</td>\n",
       "      <td>...</td>\n",
       "      <td>...</td>\n",
       "      <td>...</td>\n",
       "      <td>...</td>\n",
       "    </tr>\n",
       "    <tr>\n",
       "      <th>1593</th>\n",
       "      <td>6.8</td>\n",
       "      <td>0.620</td>\n",
       "      <td>0.08</td>\n",
       "      <td>1.9</td>\n",
       "      <td>0.068</td>\n",
       "      <td>28.0</td>\n",
       "      <td>38.0</td>\n",
       "      <td>0.99651</td>\n",
       "      <td>3.42</td>\n",
       "      <td>0.82</td>\n",
       "      <td>9.5</td>\n",
       "      <td>6</td>\n",
       "    </tr>\n",
       "    <tr>\n",
       "      <th>1594</th>\n",
       "      <td>6.2</td>\n",
       "      <td>0.600</td>\n",
       "      <td>0.08</td>\n",
       "      <td>2.0</td>\n",
       "      <td>0.090</td>\n",
       "      <td>32.0</td>\n",
       "      <td>44.0</td>\n",
       "      <td>0.99490</td>\n",
       "      <td>3.45</td>\n",
       "      <td>0.58</td>\n",
       "      <td>10.5</td>\n",
       "      <td>5</td>\n",
       "    </tr>\n",
       "    <tr>\n",
       "      <th>1595</th>\n",
       "      <td>5.9</td>\n",
       "      <td>0.550</td>\n",
       "      <td>0.10</td>\n",
       "      <td>2.2</td>\n",
       "      <td>0.062</td>\n",
       "      <td>39.0</td>\n",
       "      <td>51.0</td>\n",
       "      <td>0.99512</td>\n",
       "      <td>3.52</td>\n",
       "      <td>0.76</td>\n",
       "      <td>11.2</td>\n",
       "      <td>6</td>\n",
       "    </tr>\n",
       "    <tr>\n",
       "      <th>1597</th>\n",
       "      <td>5.9</td>\n",
       "      <td>0.645</td>\n",
       "      <td>0.12</td>\n",
       "      <td>2.0</td>\n",
       "      <td>0.075</td>\n",
       "      <td>32.0</td>\n",
       "      <td>44.0</td>\n",
       "      <td>0.99547</td>\n",
       "      <td>3.57</td>\n",
       "      <td>0.71</td>\n",
       "      <td>10.2</td>\n",
       "      <td>5</td>\n",
       "    </tr>\n",
       "    <tr>\n",
       "      <th>1598</th>\n",
       "      <td>6.0</td>\n",
       "      <td>0.310</td>\n",
       "      <td>0.47</td>\n",
       "      <td>3.6</td>\n",
       "      <td>0.067</td>\n",
       "      <td>18.0</td>\n",
       "      <td>42.0</td>\n",
       "      <td>0.99549</td>\n",
       "      <td>3.39</td>\n",
       "      <td>0.66</td>\n",
       "      <td>11.0</td>\n",
       "      <td>6</td>\n",
       "    </tr>\n",
       "  </tbody>\n",
       "</table>\n",
       "<p>1359 rows × 12 columns</p>\n",
       "</div>"
      ],
      "text/plain": [
       "      fixed acidity  volatile acidity  citric acid  residual sugar  chlorides  \\\n",
       "0               7.4             0.700         0.00             1.9      0.076   \n",
       "1               7.8             0.880         0.00             2.6      0.098   \n",
       "2               7.8             0.760         0.04             2.3      0.092   \n",
       "3              11.2             0.280         0.56             1.9      0.075   \n",
       "5               7.4             0.660         0.00             1.8      0.075   \n",
       "...             ...               ...          ...             ...        ...   \n",
       "1593            6.8             0.620         0.08             1.9      0.068   \n",
       "1594            6.2             0.600         0.08             2.0      0.090   \n",
       "1595            5.9             0.550         0.10             2.2      0.062   \n",
       "1597            5.9             0.645         0.12             2.0      0.075   \n",
       "1598            6.0             0.310         0.47             3.6      0.067   \n",
       "\n",
       "      free sulfur dioxide  total sulfur dioxide  density    pH  sulphates  \\\n",
       "0                    11.0                  34.0  0.99780  3.51       0.56   \n",
       "1                    25.0                  67.0  0.99680  3.20       0.68   \n",
       "2                    15.0                  54.0  0.99700  3.26       0.65   \n",
       "3                    17.0                  60.0  0.99800  3.16       0.58   \n",
       "5                    13.0                  40.0  0.99780  3.51       0.56   \n",
       "...                   ...                   ...      ...   ...        ...   \n",
       "1593                 28.0                  38.0  0.99651  3.42       0.82   \n",
       "1594                 32.0                  44.0  0.99490  3.45       0.58   \n",
       "1595                 39.0                  51.0  0.99512  3.52       0.76   \n",
       "1597                 32.0                  44.0  0.99547  3.57       0.71   \n",
       "1598                 18.0                  42.0  0.99549  3.39       0.66   \n",
       "\n",
       "      alcohol  quality  \n",
       "0         9.4        5  \n",
       "1         9.8        5  \n",
       "2         9.8        5  \n",
       "3         9.8        6  \n",
       "5         9.4        5  \n",
       "...       ...      ...  \n",
       "1593      9.5        6  \n",
       "1594     10.5        5  \n",
       "1595     11.2        6  \n",
       "1597     10.2        5  \n",
       "1598     11.0        6  \n",
       "\n",
       "[1359 rows x 12 columns]"
      ]
     },
     "execution_count": 4,
     "metadata": {},
     "output_type": "execute_result"
    }
   ],
   "source": [
    "# check for missing values\n",
    "print(winequality_df.isnull().sum())\n",
    "\n",
    "# drop rows with missing values\n",
    "winequality_df.dropna(inplace=True)\n",
    "\n",
    "# Drop duplicate rows\n",
    "winequality_df.drop_duplicates(keep='first')"
   ]
  },
  {
   "cell_type": "markdown",
   "metadata": {
    "id": "clP8vNRCQmY4"
   },
   "source": [
    "## EDA"
   ]
  },
  {
   "cell_type": "markdown",
   "metadata": {
    "id": "WK4JkmBNQuUY"
   },
   "source": [
    "### Analysing the Distribution of Wine Quality Scores"
   ]
  },
  {
   "cell_type": "code",
   "execution_count": 5,
   "metadata": {
    "colab": {
     "base_uri": "https://localhost:8080/",
     "height": 449
    },
    "id": "ASdImoqpQx4w",
    "outputId": "1ca26d1c-3f30-45c4-f81e-76cb79e36fcd"
   },
   "outputs": [
    {
     "data": {
      "image/png": "[encoded data removed]",
      "text/plain": [
       "<Figure size 600x400 with 1 Axes>"
      ]
     },
     "metadata": {
      "needs_background": "light"
     },
     "output_type": "display_data"
    }
   ],
   "source": [
    "# Check wine quality distribution\n",
    "plt.figure(dpi=100)\n",
    "sns.countplot(data=winequality_df, x=\"quality\")\n",
    "plt.xlabel(\"Count\")\n",
    "plt.ylabel(\"Quality Score\")\n",
    "plt.show()"
   ]
  },
  {
   "cell_type": "markdown",
   "metadata": {
    "id": "QSAkjRscUeA5"
   },
   "source": [
    "### Preparing the Dataset for Binary Classification"
   ]
  },
  {
   "cell_type": "code",
   "execution_count": 6,
   "metadata": {
    "id": "6xi8bCh2Uy0M"
   },
   "outputs": [],
   "source": [
    "# Label quality into Good (1) and Bad (0)\n",
    "winequality_df['quality'] = winequality_df['quality'].apply(lambda x: 1 if x >= 6.0 else 0)"
   ]
  },
  {
   "cell_type": "markdown",
   "metadata": {
    "id": "RAfF2TgXU970"
   },
   "source": [
    "### Gaining Insights from the Correlation Matrix"
   ]
  },
  {
   "cell_type": "code",
   "execution_count": 7,
   "metadata": {
    "colab": {
     "base_uri": "https://localhost:8080/",
     "height": 732
    },
    "id": "xPsMDWstVWv5",
    "outputId": "90f0316b-8520-4957-826f-c50c91a0732f"
   },
   "outputs": [
    {
     "data": {
      "image/png": "[encoded data removed]",
      "text/plain": [
       "<Figure size 1200x800 with 2 Axes>"
      ]
     },
     "metadata": {
      "needs_background": "light"
     },
     "output_type": "display_data"
    }
   ],
   "source": [
    "# Calculate the correlation matrix\n",
    "corr_matrix = winequality_df.corr()\n",
    "\n",
    "# Plot heatmap\n",
    "plt.figure(figsize=(12, 8), dpi=100)\n",
    "sns.heatmap(corr_matrix, center=0, cmap='Blues', annot=True)\n",
    "plt.show()"
   ]
  },
  {
   "cell_type": "markdown",
   "metadata": {
    "id": "yrstzyHsasaH"
   },
   "source": [
    "### Preparing the dataset for model training"
   ]
  },
  {
   "cell_type": "code",
   "execution_count": 8,
   "metadata": {
    "id": "sb-7IV_ha7fh"
   },
   "outputs": [],
   "source": [
    "# Drop the target variable\n",
    "X = winequality_df.drop('quality', axis=1)\n",
    "# Set the target variable as the label\n",
    "y = winequality_df['quality']"
   ]
  },
  {
   "cell_type": "code",
   "execution_count": 9,
   "metadata": {
    "id": "9tsRLhoabPMw"
   },
   "outputs": [],
   "source": [
    "# Split the data into training and testing sets (20% testing and 80% training)\n",
    "X_train, X_test, y_train, y_test = train_test_split(X, y, test_size=0.20, random_state=42)"
   ]
  },
  {
   "cell_type": "markdown",
   "metadata": {
    "id": "A4ykmH6gbV99"
   },
   "source": [
    "# TODO 1"
   ]
  },
  {
   "cell_type": "markdown",
   "metadata": {},
   "source": [
    "#### Discuss how Figure 2 can be used to gain insights into the features that most influence the wine quality and to identify highly correlated features."
   ]
  },
  {
   "cell_type": "markdown",
   "metadata": {},
   "source": [
    "Features that most influence the wine quality are the highly correlated features with quality\n",
    "They are,\n",
    "1. Alcohol - 0.43\n",
    "2. volatile acidity - 0.321441"
   ]
  },
  {
   "cell_type": "code",
   "execution_count": 10,
   "metadata": {
    "id": "YmXlCZ-gbciE"
   },
   "outputs": [
    {
     "name": "stdout",
     "output_type": "stream",
     "text": [
      "quality                 1.000000\n",
      "alcohol                 0.434751\n",
      "volatile acidity        0.321441\n",
      "total sulfur dioxide    0.231963\n",
      "sulphates               0.218072\n",
      "citric acid             0.159129\n",
      "density                 0.159110\n",
      "chlorides               0.109494\n",
      "fixed acidity           0.095093\n",
      "free sulfur dioxide     0.061757\n",
      "pH                      0.003264\n",
      "residual sugar          0.002160\n",
      "Name: quality, dtype: float64\n"
     ]
    }
   ],
   "source": [
    "corr = abs(winequality_df.corr()['quality']).sort_values(ascending=False)\n",
    "print(corr)"
   ]
  },
  {
   "cell_type": "markdown",
   "metadata": {
    "id": "PXgfuTjgbdyi"
   },
   "source": [
    "# 5. Applying Logistic Regression"
   ]
  },
  {
   "cell_type": "code",
   "execution_count": 11,
   "metadata": {
    "id": "tJwf4_QedpbQ"
   },
   "outputs": [],
   "source": [
    "# Create an object of the logistic regression model\n",
    "logreg_model = LogisticRegression()"
   ]
  },
  {
   "cell_type": "code",
   "execution_count": 12,
   "metadata": {
    "colab": {
     "base_uri": "https://localhost:8080/",
     "height": 230
    },
    "id": "r8N-Tnz4iC1D",
    "outputId": "a93a0bd4-6231-48d7-f8f4-81c673a2f8bc"
   },
   "outputs": [
    {
     "name": "stderr",
     "output_type": "stream",
     "text": [
      "/Users/haritha/anaconda3/envs/pytorch_env/lib/python3.7/site-packages/sklearn/linear_model/_logistic.py:818: ConvergenceWarning: lbfgs failed to converge (status=1):\n",
      "STOP: TOTAL NO. of ITERATIONS REACHED LIMIT.\n",
      "\n",
      "Increase the number of iterations (max_iter) or scale the data as shown in:\n",
      "    https://scikit-learn.org/stable/modules/preprocessing.html\n",
      "Please also refer to the documentation for alternative solver options:\n",
      "    https://scikit-learn.org/stable/modules/linear_model.html#logistic-regression\n",
      "  extra_warning_msg=_LOGISTIC_SOLVER_CONVERGENCE_MSG,\n"
     ]
    },
    {
     "data": {
      "text/plain": [
       "LogisticRegression()"
      ]
     },
     "execution_count": 12,
     "metadata": {},
     "output_type": "execute_result"
    }
   ],
   "source": [
    "# Fit the model to the training data\n",
    "logreg_model.fit(X_train, y_train)"
   ]
  },
  {
   "cell_type": "code",
   "execution_count": 13,
   "metadata": {
    "id": "BVODSu_HiEc8"
   },
   "outputs": [],
   "source": [
    "# Predict the labels of the test set\n",
    "y_pred = logreg_model.predict(X_test)"
   ]
  },
  {
   "cell_type": "markdown",
   "metadata": {
    "id": "ojnbEB0GiKCY"
   },
   "source": [
    "# 6. Evaluating Model Performance"
   ]
  },
  {
   "cell_type": "code",
   "execution_count": 14,
   "metadata": {
    "id": "Kqkh1qCGiR9R"
   },
   "outputs": [
    {
     "name": "stdout",
     "output_type": "stream",
     "text": [
      "[[104  37]\n",
      " [ 44 135]]\n"
     ]
    }
   ],
   "source": [
    "# Create the confusion matrix\n",
    "confusion_mat = confusion_matrix(y_test, y_pred)\n",
    "print(confusion_mat)"
   ]
  },
  {
   "cell_type": "markdown",
   "metadata": {
    "id": "g2p5B_4tiyiy"
   },
   "source": [
    "Accuracy"
   ]
  },
  {
   "cell_type": "code",
   "execution_count": 15,
   "metadata": {
    "id": "SR5yIPTUi4ZS"
   },
   "outputs": [
    {
     "name": "stdout",
     "output_type": "stream",
     "text": [
      "0.746875\n"
     ]
    }
   ],
   "source": [
    "# Compute the accuracy of the model\n",
    "accuracy = accuracy_score(y_test, y_pred)\n",
    "print(accuracy)"
   ]
  },
  {
   "cell_type": "markdown",
   "metadata": {
    "id": "swtZIIK2i8AA"
   },
   "source": [
    "Precision"
   ]
  },
  {
   "cell_type": "code",
   "execution_count": 16,
   "metadata": {
    "id": "Nzw7LeJji9gy"
   },
   "outputs": [
    {
     "name": "stdout",
     "output_type": "stream",
     "text": [
      "0.7848837209302325\n"
     ]
    }
   ],
   "source": [
    "# Compute the precision of the model\n",
    "precision = precision_score(y_test, y_pred)\n",
    "print(precision)"
   ]
  },
  {
   "cell_type": "markdown",
   "metadata": {
    "id": "EXDkVoHVjAXd"
   },
   "source": [
    "Recall"
   ]
  },
  {
   "cell_type": "code",
   "execution_count": 17,
   "metadata": {
    "id": "GoH7urFejDuM"
   },
   "outputs": [
    {
     "name": "stdout",
     "output_type": "stream",
     "text": [
      "0.7541899441340782\n"
     ]
    }
   ],
   "source": [
    "# Compute the recall of the model\n",
    "recall = recall_score(y_test, y_pred)\n",
    "print(recall)"
   ]
  },
  {
   "cell_type": "markdown",
   "metadata": {
    "id": "duA3NFiRjEgr"
   },
   "source": [
    "F1 Score"
   ]
  },
  {
   "cell_type": "code",
   "execution_count": 18,
   "metadata": {
    "id": "bHITs3_XjH0q"
   },
   "outputs": [
    {
     "name": "stdout",
     "output_type": "stream",
     "text": [
      "0.7692307692307692\n"
     ]
    }
   ],
   "source": [
    "# Compute the F1 score of the model\n",
    "f1 = f1_score(y_test, y_pred)\n",
    "print(f1)"
   ]
  },
  {
   "cell_type": "markdown",
   "metadata": {
    "id": "-2ivIRewjO6w"
   },
   "source": [
    "## The Receiver Operating Characteristic (ROC) Curve and the Area Under the Curve (AUC)"
   ]
  },
  {
   "cell_type": "code",
   "execution_count": 19,
   "metadata": {
    "colab": {
     "base_uri": "https://localhost:8080/",
     "height": 472
    },
    "id": "lMUvZ-2ijUhv",
    "outputId": "3a068dc7-4012-4c6d-ce93-fa90c20b74b7"
   },
   "outputs": [
    {
     "data": {
      "image/png": "[encoded data removed]",
      "text/plain": [
       "<Figure size 600x400 with 1 Axes>"
      ]
     },
     "metadata": {
      "needs_background": "light"
     },
     "output_type": "display_data"
    }
   ],
   "source": [
    "#y_true and y_score are the true labels and predicted scores, respectively\n",
    "fpr, tpr, thresholds = roc_curve(y_test, y_pred)\n",
    "auc_score = roc_auc_score(y_test, y_pred)\n",
    "plt.figure(dpi=100)\n",
    "plt.plot(fpr, tpr, color='blue', label='ROC curve (AUC = %0.2f)' % auc_score)\n",
    "plt.plot([0, 1], [0, 1], color='red', linestyle='--')\n",
    "plt.xlabel('False Positive Rate')\n",
    "plt.ylabel('True Positive Rate')\n",
    "plt.title('Receiver Operating Characteristic (ROC) Curve')\n",
    "plt.legend(loc=\"lower right\")\n",
    "plt.show()\n"
   ]
  },
  {
   "cell_type": "markdown",
   "metadata": {
    "id": "_wmBM3dYlaQ2"
   },
   "source": [
    "# TODO 2"
   ]
  },
  {
   "cell_type": "markdown",
   "metadata": {},
   "source": [
    "<b>What is the most appropriate performance metric to evaluate the model’s performance? Briefly explain why.</b>"
   ]
  },
  {
   "cell_type": "markdown",
   "metadata": {},
   "source": [
    "In the case of wine quality classification, we should aim for high precision and recall, as we want to correctly classify as many good wines as possible without misclassifying too many bad wines as good. Hence to obtain the optimum value between precision and recall, we should have to consider f1 score."
   ]
  },
  {
   "cell_type": "code",
   "execution_count": 20,
   "metadata": {},
   "outputs": [
    {
     "data": {
      "text/plain": [
       "<BarContainer object of 2 artists>"
      ]
     },
     "execution_count": 20,
     "metadata": {},
     "output_type": "execute_result"
    },
    {
     "data": {
      "image/png": "[encoded data removed]",
      "text/plain": [
       "<Figure size 720x360 with 1 Axes>"
      ]
     },
     "metadata": {
      "needs_background": "light"
     },
     "output_type": "display_data"
    }
   ],
   "source": [
    "# print(y_pred)\n",
    "ones = sum(y_pred)\n",
    "zeros = len(y_pred) - ones\n",
    "\n",
    "distribution = {\"Good\":ones,\"Bad\":zeros}\n",
    "\n",
    "Key = list(distribution.keys())\n",
    "val = list(distribution.values())\n",
    "  \n",
    "fig = plt.figure(figsize = (10, 5))\n",
    " \n",
    "# creating the bar plot\n",
    "plt.bar(Key, val, color ='maroon',\n",
    "        width = 0.4)"
   ]
  },
  {
   "cell_type": "markdown",
   "metadata": {
    "id": "FBqfOnHOlb5S"
   },
   "source": [
    "# TODO 3"
   ]
  },
  {
   "cell_type": "markdown",
   "metadata": {},
   "source": [
    "<b>Eliminate irrelevant features that may negatively affect the performance of the model and discuss how that may affect the model’s performance using your chosen metric.</b>"
   ]
  },
  {
   "cell_type": "code",
   "execution_count": 21,
   "metadata": {},
   "outputs": [
    {
     "name": "stdout",
     "output_type": "stream",
     "text": [
      "----------\n",
      "      fixed acidity  volatile acidity  citric acid  chlorides  \\\n",
      "0               7.4             0.700         0.00      0.076   \n",
      "1               7.8             0.880         0.00      0.098   \n",
      "2               7.8             0.760         0.04      0.092   \n",
      "3              11.2             0.280         0.56      0.075   \n",
      "4               7.4             0.700         0.00      0.076   \n",
      "...             ...               ...          ...        ...   \n",
      "1594            6.2             0.600         0.08      0.090   \n",
      "1595            5.9             0.550         0.10      0.062   \n",
      "1596            6.3             0.510         0.13      0.076   \n",
      "1597            5.9             0.645         0.12      0.075   \n",
      "1598            6.0             0.310         0.47      0.067   \n",
      "\n",
      "      free sulfur dioxide  total sulfur dioxide  density  sulphates  alcohol  \\\n",
      "0                    11.0                  34.0  0.99780       0.56      9.4   \n",
      "1                    25.0                  67.0  0.99680       0.68      9.8   \n",
      "2                    15.0                  54.0  0.99700       0.65      9.8   \n",
      "3                    17.0                  60.0  0.99800       0.58      9.8   \n",
      "4                    11.0                  34.0  0.99780       0.56      9.4   \n",
      "...                   ...                   ...      ...        ...      ...   \n",
      "1594                 32.0                  44.0  0.99490       0.58     10.5   \n",
      "1595                 39.0                  51.0  0.99512       0.76     11.2   \n",
      "1596                 29.0                  40.0  0.99574       0.75     11.0   \n",
      "1597                 32.0                  44.0  0.99547       0.71     10.2   \n",
      "1598                 18.0                  42.0  0.99549       0.66     11.0   \n",
      "\n",
      "      quality  \n",
      "0           0  \n",
      "1           0  \n",
      "2           0  \n",
      "3           1  \n",
      "4           0  \n",
      "...       ...  \n",
      "1594        0  \n",
      "1595        1  \n",
      "1596        1  \n",
      "1597        0  \n",
      "1598        1  \n",
      "\n",
      "[1599 rows x 10 columns]\n"
     ]
    }
   ],
   "source": [
    "test_df = winequality_df.copy()\n",
    "test_df.drop(columns=['residual sugar','pH'],axis='columns',inplace=True)\n",
    "print('----------')\n",
    "print(test_df)"
   ]
  },
  {
   "cell_type": "code",
   "execution_count": 22,
   "metadata": {},
   "outputs": [],
   "source": [
    "# Drop the target variable\n",
    "X1 = test_df.drop('quality', axis=1)\n",
    "# Set the target variable as the label\n",
    "y1 = test_df['quality']"
   ]
  },
  {
   "cell_type": "code",
   "execution_count": 23,
   "metadata": {},
   "outputs": [],
   "source": [
    "# Split the data into training and testing sets (20% testing and 80% training)\n",
    "X_train1, X_test1, y_train1, y_test1 = train_test_split(X1, y1, test_size=0.20, random_state=42)"
   ]
  },
  {
   "cell_type": "code",
   "execution_count": 24,
   "metadata": {},
   "outputs": [],
   "source": [
    "# Create an object of the logistic regression model\n",
    "logreg_model = LogisticRegression()"
   ]
  },
  {
   "cell_type": "code",
   "execution_count": 25,
   "metadata": {},
   "outputs": [
    {
     "name": "stderr",
     "output_type": "stream",
     "text": [
      "/Users/haritha/anaconda3/envs/pytorch_env/lib/python3.7/site-packages/sklearn/linear_model/_logistic.py:818: ConvergenceWarning: lbfgs failed to converge (status=1):\n",
      "STOP: TOTAL NO. of ITERATIONS REACHED LIMIT.\n",
      "\n",
      "Increase the number of iterations (max_iter) or scale the data as shown in:\n",
      "    https://scikit-learn.org/stable/modules/preprocessing.html\n",
      "Please also refer to the documentation for alternative solver options:\n",
      "    https://scikit-learn.org/stable/modules/linear_model.html#logistic-regression\n",
      "  extra_warning_msg=_LOGISTIC_SOLVER_CONVERGENCE_MSG,\n"
     ]
    },
    {
     "data": {
      "text/plain": [
       "LogisticRegression()"
      ]
     },
     "execution_count": 25,
     "metadata": {},
     "output_type": "execute_result"
    }
   ],
   "source": [
    "# Fit the model to the training data\n",
    "logreg_model.fit(X_train1, y_train1)"
   ]
  },
  {
   "cell_type": "code",
   "execution_count": 26,
   "metadata": {},
   "outputs": [],
   "source": [
    "# Predict the labels of the test set\n",
    "y_pred1 = logreg_model.predict(X_test1)"
   ]
  },
  {
   "cell_type": "code",
   "execution_count": 27,
   "metadata": {},
   "outputs": [
    {
     "name": "stdout",
     "output_type": "stream",
     "text": [
      "[[107  34]\n",
      " [ 49 130]]\n"
     ]
    }
   ],
   "source": [
    "# Create the confusion matrix\n",
    "confusion_mat1 = confusion_matrix(y_test1, y_pred1)\n",
    "print(confusion_mat1)"
   ]
  },
  {
   "cell_type": "code",
   "execution_count": 28,
   "metadata": {},
   "outputs": [
    {
     "name": "stdout",
     "output_type": "stream",
     "text": [
      "0.7580174927113703\n"
     ]
    }
   ],
   "source": [
    "# Compute the F1 score of the model\n",
    "f1_test = f1_score(y_test1, y_pred1)\n",
    "print(f1_test)"
   ]
  },
  {
   "cell_type": "markdown",
   "metadata": {
    "id": "HHEEoci2ldZN"
   },
   "source": [
    "# TODO 4"
   ]
  },
  {
   "cell_type": "markdown",
   "metadata": {},
   "source": [
    "<b>Try different test/train split ratios and evaluate the model performance in terms of your chosen metric to find the optimal split ratio.</b>"
   ]
  },
  {
   "cell_type": "code",
   "execution_count": 29,
   "metadata": {},
   "outputs": [],
   "source": [
    "def optimumSplit(test_split):\n",
    "\n",
    "    todo4_df = winequality_df.copy()\n",
    "\n",
    "    # Drop the target variable\n",
    "    X2 = todo4_df.drop('quality', axis=1)\n",
    "    # Set the target variable as the label\n",
    "    y2 = todo4_df['quality']\n",
    "\n",
    "    # Split the data into training and testing sets (20% testing and 80% training)\n",
    "    X2_train, X2_test, y2_train, y2_test = train_test_split(X2, y2, test_size=test_split, random_state=42)\n",
    "\n",
    "    # Create an object of the logistic regression model\n",
    "    logreg_model = LogisticRegression()\n",
    "\n",
    "    # Fit the model to the training data\n",
    "    logreg_model.fit(X2_train, y2_train)\n",
    "\n",
    "    # Predict the labels of the test set\n",
    "    y2_pred = logreg_model.predict(X2_test)\n",
    "    \n",
    "    # Create the confusion matrix\n",
    "    confusion_mat2 = confusion_matrix(y2_test, y2_pred)\n",
    "    \n",
    "    # Compute the F1 score of the model\n",
    "    f1_split = f1_score(y2_test, y2_pred)\n",
    "    \n",
    "    return f1_split"
   ]
  },
  {
   "cell_type": "code",
   "execution_count": 30,
   "metadata": {},
   "outputs": [
    {
     "name": "stdout",
     "output_type": "stream",
     "text": [
      "Test Data = 1.0 %  and  Train Data = 99.0 % f1 value = 0.7142857142857143\n",
      "------------------------------------------------------------------------------\n",
      "Test Data = 2.0 %  and  Train Data = 98.0 % f1 value = 0.6000000000000001\n",
      "------------------------------------------------------------------------------\n",
      "Test Data = 3.0 %  and  Train Data = 97.0 % f1 value = 0.6382978723404256\n",
      "------------------------------------------------------------------------------\n",
      "Test Data = 4.0 %  and  Train Data = 96.0 % f1 value = 0.6229508196721313\n",
      "------------------------------------------------------------------------------\n",
      "Test Data = 5.0 %  and  Train Data = 95.0 % f1 value = 0.7073170731707317\n",
      "------------------------------------------------------------------------------\n",
      "Test Data = 6.0 %  and  Train Data = 94.0 % f1 value = 0.7326732673267328\n",
      "------------------------------------------------------------------------------\n",
      "Test Data = 7.000000000000001 %  and  Train Data = 93.0 % f1 value = 0.7796610169491527\n",
      "------------------------------------------------------------------------------\n",
      "Test Data = 8.0 %  and  Train Data = 92.0 % f1 value = 0.7801418439716311\n",
      "------------------------------------------------------------------------------\n",
      "Test Data = 9.0 %  and  Train Data = 91.0 % f1 value = 0.7848101265822786\n",
      "------------------------------------------------------------------------------\n",
      "Test Data = 10.0 %  and  Train Data = 90.0 % f1 value = 0.7752808988764045\n",
      "------------------------------------------------------------------------------\n",
      "Test Data = 11.0 %  and  Train Data = 89.0 % f1 value = 0.7668393782383419\n",
      "------------------------------------------------------------------------------\n",
      "Test Data = 12.0 %  and  Train Data = 88.0 % f1 value = 0.7559808612440191\n",
      "------------------------------------------------------------------------------\n",
      "Test Data = 13.0 %  and  Train Data = 87.0 % f1 value = 0.7555555555555556\n",
      "------------------------------------------------------------------------------\n",
      "Test Data = 14.000000000000002 %  and  Train Data = 86.0 % f1 value = 0.7692307692307693\n",
      "------------------------------------------------------------------------------\n",
      "Test Data = 15.0 %  and  Train Data = 85.0 % f1 value = 0.7692307692307692\n",
      "------------------------------------------------------------------------------\n",
      "Test Data = 16.0 %  and  Train Data = 84.0 % f1 value = 0.7608695652173915\n",
      "------------------------------------------------------------------------------\n",
      "Test Data = 17.0 %  and  Train Data = 83.0 % f1 value = 0.7692307692307693\n",
      "------------------------------------------------------------------------------\n",
      "Test Data = 18.0 %  and  Train Data = 82.0 % f1 value = 0.7628205128205129\n",
      "------------------------------------------------------------------------------\n",
      "Test Data = 19.0 %  and  Train Data = 81.0 % f1 value = 0.7687687687687688\n",
      "------------------------------------------------------------------------------\n",
      "Test Data = 20.0 %  and  Train Data = 80.0 % f1 value = 0.7692307692307692\n",
      "------------------------------------------------------------------------------\n",
      "Test Data = 21.0 %  and  Train Data = 79.0 % f1 value = 0.7621621621621621\n",
      "------------------------------------------------------------------------------\n",
      "Test Data = 22.0 %  and  Train Data = 78.0 % f1 value = 0.7660668380462725\n",
      "------------------------------------------------------------------------------\n",
      "Test Data = 23.0 %  and  Train Data = 77.0 % f1 value = 0.760493827160494\n",
      "------------------------------------------------------------------------------\n",
      "Test Data = 24.0 %  and  Train Data = 76.0 % f1 value = 0.7446300715990455\n",
      "------------------------------------------------------------------------------\n",
      "Test Data = 25.0 %  and  Train Data = 75.0 % f1 value = 0.7517084282460137\n",
      "------------------------------------------------------------------------------\n",
      "Test Data = 26.0 %  and  Train Data = 74.0 % f1 value = 0.7554585152838428\n",
      "------------------------------------------------------------------------------\n",
      "Test Data = 27.0 %  and  Train Data = 73.0 % f1 value = 0.7552742616033756\n",
      "------------------------------------------------------------------------------\n",
      "Test Data = 28.000000000000004 %  and  Train Data = 72.0 % f1 value = 0.7510204081632653\n",
      "------------------------------------------------------------------------------\n",
      "Test Data = 28.999999999999996 %  and  Train Data = 71.0 % f1 value = 0.7534516765285996\n",
      "------------------------------------------------------------------------------\n",
      "Test Data = 30.0 %  and  Train Data = 70.0 % f1 value = 0.7490494296577946\n",
      "------------------------------------------------------------------------------\n",
      "Test Data = 31.0 %  and  Train Data = 69.0 % f1 value = 0.7486238532110092\n",
      "------------------------------------------------------------------------------\n",
      "Test Data = 32.0 %  and  Train Data = 68.0 % f1 value = 0.7513416815742396\n",
      "------------------------------------------------------------------------------\n",
      "Test Data = 33.0 %  and  Train Data = 67.0 % f1 value = 0.7530647985989493\n",
      "------------------------------------------------------------------------------\n",
      "Test Data = 34.0 %  and  Train Data = 65.99999999999999 % f1 value = 0.758974358974359\n",
      "------------------------------------------------------------------------------\n",
      "Test Data = 35.0 %  and  Train Data = 64.99999999999999 % f1 value = 0.7508305647840531\n",
      "------------------------------------------------------------------------------\n",
      "Test Data = 36.0 %  and  Train Data = 64.0 % f1 value = 0.7495961227786753\n",
      "------------------------------------------------------------------------------\n",
      "Test Data = 37.0 %  and  Train Data = 63.0 % f1 value = 0.7408585055643879\n",
      "------------------------------------------------------------------------------\n",
      "Test Data = 38.0 %  and  Train Data = 62.0 % f1 value = 0.7469135802469135\n",
      "------------------------------------------------------------------------------\n",
      "Test Data = 39.0 %  and  Train Data = 61.0 % f1 value = 0.7548872180451127\n",
      "------------------------------------------------------------------------------\n",
      "Test Data = 40.0 %  and  Train Data = 60.0 % f1 value = 0.7488855869242198\n",
      "------------------------------------------------------------------------------\n",
      "Test Data = 41.0 %  and  Train Data = 59.0 % f1 value = 0.7510791366906474\n",
      "------------------------------------------------------------------------------\n",
      "Test Data = 42.0 %  and  Train Data = 58.00000000000001 % f1 value = 0.7464387464387464\n",
      "------------------------------------------------------------------------------\n",
      "Test Data = 43.0 %  and  Train Data = 57.00000000000001 % f1 value = 0.746227709190672\n",
      "------------------------------------------------------------------------------\n",
      "Test Data = 44.0 %  and  Train Data = 56.00000000000001 % f1 value = 0.7499999999999999\n",
      "------------------------------------------------------------------------------\n",
      "Test Data = 45.0 %  and  Train Data = 55.00000000000001 % f1 value = 0.7453580901856764\n",
      "------------------------------------------------------------------------------\n",
      "Test Data = 46.0 %  and  Train Data = 54.0 % f1 value = 0.7483702737940026\n",
      "------------------------------------------------------------------------------\n",
      "Test Data = 47.0 %  and  Train Data = 53.0 % f1 value = 0.7458912768647282\n",
      "------------------------------------------------------------------------------\n",
      "Test Data = 48.0 %  and  Train Data = 52.0 % f1 value = 0.7432098765432099\n",
      "------------------------------------------------------------------------------\n",
      "Test Data = 49.0 %  and  Train Data = 51.0 % f1 value = 0.7425149700598801\n",
      "------------------------------------------------------------------------------\n",
      "test split = 9.0 % maximum f1 value = 0.7848101265822786\n"
     ]
    }
   ],
   "source": [
    "import warnings\n",
    "warnings.filterwarnings('ignore')\n",
    "\n",
    "# Test\n",
    "maxf1 = 0\n",
    "mintestsplit = 100\n",
    "for i in range(1,50,1):\n",
    "    test_split = i*0.01\n",
    "    \n",
    "    f1_value = optimumSplit(test_split)\n",
    "    print(\"Test Data =\",test_split*100,\"%\",\" and \",\"Train Data =\",(1-test_split)*100,\"%\",\"f1 value =\",f1_value)\n",
    "    if(f1_value > maxf1):\n",
    "        maxf1 = f1_value\n",
    "        mintestsplit = test_split\n",
    "    print(\"------------------------------------------------------------------------------\")\n",
    "\n",
    "print(\"test split =\",mintestsplit*100,\"%\", \"maximum f1 value =\",maxf1)\n"
   ]
  },
  {
   "cell_type": "markdown",
   "metadata": {},
   "source": [
    "Optimum Split Ratio: Test => 9% and Train => 81%"
   ]
  },
  {
   "cell_type": "markdown",
   "metadata": {
    "id": "JQul-hoKle1C"
   },
   "source": [
    "# TODO 5"
   ]
  },
  {
   "cell_type": "markdown",
   "metadata": {},
   "source": [
    "#### Perform hyperparameter tuning for the logistic regression model using grid search to optimize the model’s performance with the dataset. Try different hyperparameters, such as C (regularization strength), penalty (regularization type), solver (optimization algorithm), and max iter (maximum number of iterations to converge). Compare the results with our initial model and choose the best set of hyperparameters."
   ]
  },
  {
   "cell_type": "code",
   "execution_count": 34,
   "metadata": {},
   "outputs": [
    {
     "name": "stdout",
     "output_type": "stream",
     "text": [
      "Precision = 0.7857142857142857\n",
      "Accuracy = 0.740625\n",
      "Recall = 0.7374301675977654\n",
      "F1 Score = 0.760806916426513\n"
     ]
    }
   ],
   "source": [
    "#Before\n",
    "#Precision = 0.7848837209302325\n",
    "#Accuracy = 0.746875\n",
    "#Recall = 0.7541899441340782\n",
    "#f1 score = 0.7692307692307692\n",
    "\n",
    "from sklearn.model_selection import GridSearchCV\n",
    "from sklearn.metrics import accuracy_score, precision_score,recall_score,f1_score\n",
    "\n",
    "todo_5_model = LogisticRegression()\n",
    "\n",
    "hyperparameters = {\n",
    "    'C':[0.1,0.9,1,2,3,4,5,6,10],\n",
    "    'penalty':['l1','l2'],\n",
    "    'solver':['newton-cg','lbfgs','liblinear'],\n",
    "    'max_iter':[100,500,1000]\n",
    "}\n",
    "\n",
    "clf = GridSearchCV(todo_5_model,\n",
    "                  param_grid = hyperparameters,\n",
    "                  scoring = 'f1',\n",
    "                   cv=10)\n",
    "\n",
    "clf.fit(X_train,y_train)\n",
    "\n",
    "best_params = clf.best_params_\n",
    "\n",
    "best_logreg_model = LogisticRegression(**best_params)\n",
    "best_logreg_model.fit(X_train,y_train)\n",
    "\n",
    "precision = precision_score(y_test,best_logreg_model.predict(X_test))\n",
    "accuracy = accuracy_score(y_test,best_logreg_model.predict(X_test))\n",
    "recall = recall_score(y_test,best_logreg_model.predict(X_test))\n",
    "f1 = f1_score(y_test,best_logreg_model.predict(X_test))\n",
    "\n",
    "print(\"Precision =\",precision)\n",
    "print(\"Accuracy =\",accuracy)\n",
    "print(\"Recall =\",recall)\n",
    "print(\"F1 Score =\",f1)"
   ]
  },
  {
   "cell_type": "markdown",
   "metadata": {
    "id": "IgZhJBD0lg7v"
   },
   "source": [
    "# 7. Creating an Interactive Dashboard"
   ]
  },
  {
   "cell_type": "markdown",
   "metadata": {
    "id": "k_9QKOUUlkyR"
   },
   "source": [
    "## Creating the Layout"
   ]
  },
  {
   "cell_type": "code",
   "execution_count": 42,
   "metadata": {
    "id": "NevPrOqPmOC2"
   },
   "outputs": [],
   "source": [
    "# Create the Dash app\n",
    "app = dash.Dash(__name__)\n",
    "# Define the layout of the dashboard\n",
    "app.layout = html.Div(\n",
    "    children=[\n",
    "    html.H1('CO544-2023 Lab 3: Wine Quality Prediction'),\n",
    "    # Layout for exploratory data analysis: correlation between two selected features\n",
    "    html.Div([\n",
    "        html.H3('Wine Quality Tester'),\n",
    "        html.Label('Feature 1 (X-axis)'),\n",
    "        dcc.Dropdown(\n",
    "            id='x_feature',\n",
    "            options=[{'label': col, 'value': col} for col in winequality_df.columns],\n",
    "            value=winequality_df.columns[0]\n",
    "        )\n",
    "    ], style={'width': '30%', 'display': 'inline-block'}),\n",
    "    html.Div([\n",
    "        html.Label('Feature 2 (Y-axis)'),\n",
    "        dcc.Dropdown(\n",
    "            id='y_feature',\n",
    "            options=[{'label': col, 'value': col} for col in winequality_df.columns],\n",
    "            value=winequality_df.columns[1]\n",
    "        )\n",
    "    ], style={'width': '30%', 'display': 'inline-block'}),\n",
    "    dcc.Graph(id='correlation_plot'),\n",
    "    # Layout for wine quality prediction based on input feature values\n",
    "    html.H3(\"Wine Quality Prediction\"),\n",
    "    html.Div([\n",
    "        html.P('To predict the wine quality as \"GOOD\" or \"BAD\" please fill the following fields and press predict Button')\n",
    "    ]),\n",
    "    html.Div([\n",
    "        html.Label(\"Fixed Acidity\"),\n",
    "        dcc.Input(id='fixed_acidity', type='number', required=True),\n",
    "        html.Br(),\n",
    "        html.Label(\"Volatile Acidity\"),\n",
    "        dcc.Input(id='volatile_acidity', type='number', required=True),\n",
    "        html.Br(),\n",
    "        html.Label(\"Citric Acid\"),\n",
    "        dcc.Input(id='citric_acid', type='number', required=True),\n",
    "        html.Br(),\n",
    "        html.Label(\"Residual Sugar\"),\n",
    "        dcc.Input(id='residual_sugar', type='number', required=True),\n",
    "        html.Br(),\n",
    "        html.Label(\"Chlorides\"),\n",
    "        dcc.Input(id='chlorides', type='number', required=True),\n",
    "        html.Br(),\n",
    "        html.Label(\"Free Sulfur Dioxide\"),\n",
    "        dcc.Input(id='free_sulfur_dioxide', type='number', required=True),\n",
    "        html.Br(),\n",
    "        html.Label(\"Total Sulfur Dioxide\"),\n",
    "        dcc.Input(id='total_sulfur_dioxide', type='number', required=True),\n",
    "        html.Br(),\n",
    "        html.Label(\"Density\"),\n",
    "        dcc.Input(id='density', type='number', required=True),\n",
    "        html.Br(),\n",
    "        html.Label(\"pH\"),\n",
    "        dcc.Input(id='ph', type='number', required=True),\n",
    "        html.Br(),\n",
    "        html.Label(\"Sulphates\"),\n",
    "        dcc.Input(id='sulphates', type='number', required=True),\n",
    "        html.Br(),\n",
    "        html.Label(\"Alcohol\"),\n",
    "        dcc.Input(id='alcohol', type='number', required=True),\n",
    "        html.Br(),\n",
    "]),\n",
    "    html.Div([\n",
    "        html.Br(),\n",
    "        html.Button('Predict', id='predict-button', n_clicks=0),\n",
    "]),\n",
    "    html.Div([\n",
    "        html.H4(\"Predicted Quality\"),\n",
    "        html.Div(id='prediction-output')\n",
    "]) ])"
   ]
  },
  {
   "cell_type": "markdown",
   "metadata": {
    "id": "7Nl8V0qqoQZX"
   },
   "source": [
    "## Adding Interactivity"
   ]
  },
  {
   "cell_type": "code",
   "execution_count": 43,
   "metadata": {
    "id": "JHX9ccjdokpF"
   },
   "outputs": [],
   "source": [
    "# Define the callback to update the correlation plot\n",
    "@app.callback(\n",
    "    dash.dependencies.Output('correlation_plot', 'figure'),\n",
    "    [dash.dependencies.Input('x_feature', 'value'),\n",
    "     dash.dependencies.Input('y_feature', 'value')]\n",
    ")\n",
    "def update_correlation_plot(x_feature, y_feature):\n",
    "    fig = px.scatter(winequality_df, x=x_feature, y=y_feature, color='quality')\n",
    "    fig.update_layout(title=f\"Correlation between {x_feature} and {y_feature}\")\n",
    "    return fig\n",
    "# Define the callback function to predict wine quality\n",
    "@app.callback(\n",
    "    Output(component_id='prediction-output', component_property='children'),\n",
    "    [Input('predict-button', 'n_clicks')],\n",
    "    [State('fixed_acidity', 'value'),\n",
    "     State('volatile_acidity', 'value'),\n",
    "     State('citric_acid', 'value'),\n",
    "     State('residual_sugar', 'value'),\n",
    "     State('chlorides', 'value'),\n",
    "     State('free_sulfur_dioxide', 'value'),\n",
    "     State('total_sulfur_dioxide', 'value'),\n",
    "     State('density', 'value'),\n",
    "     State('ph', 'value'),\n",
    "     State('sulphates', 'value'),\n",
    "     State('alcohol', 'value')]\n",
    ")\n",
    "def predict_quality(n_clicks, fixed_acidity, volatile_acidity, citric_acid,\n",
    "        residual_sugar, chlorides, free_sulfur_dioxide, total_sulfur_dioxide,\n",
    "        density, ph, sulphates, alcohol):\n",
    "    # Create input features array for prediction\n",
    "    input_features = np.array([fixed_acidity, volatile_acidity, citric_acid,\n",
    "            residual_sugar, chlorides, free_sulfur_dioxide,\n",
    "            total_sulfur_dioxide, density, ph, sulphates, alcohol]).reshape(1, -1)\n",
    "    # Predict the wine quality (0 = bad, 1 = good)\n",
    "    prediction = logreg_model.predict(input_features)[0]\n",
    "    # Return the prediction\n",
    "    if prediction == 1:\n",
    "        return 'This wine is predicted to be good quality.'\n",
    "    else:\n",
    "        return 'This wine is predicted to be bad quality.'\n"
   ]
  },
  {
   "cell_type": "markdown",
   "metadata": {
    "id": "Tj8df56SpnJS"
   },
   "source": [
    "## Running the Dashboard"
   ]
  },
  {
   "cell_type": "code",
   "execution_count": null,
   "metadata": {
    "colab": {
     "base_uri": "https://localhost:8080/"
    },
    "id": "j-z1GUsZpsU3",
    "outputId": "6fd22843-7dd7-46b8-b3a9-3c0ef1f3c976"
   },
   "outputs": [
    {
     "name": "stdout",
     "output_type": "stream",
     "text": [
      "Dash is running on http://127.0.0.1:8050/\n",
      "\n",
      " * Serving Flask app '__main__'\n",
      " * Debug mode: off\n"
     ]
    },
    {
     "name": "stderr",
     "output_type": "stream",
     "text": [
      "\u001b[31m\u001b[1mWARNING: This is a development server. Do not use it in a production deployment. Use a production WSGI server instead.\u001b[0m\n",
      " * Running on http://127.0.0.1:8050\n",
      "\u001b[33mPress CTRL+C to quit\u001b[0m\n",
      "127.0.0.1 - - [24/May/2023 17:03:35] \"GET / HTTP/1.1\" 200 -\n",
      "127.0.0.1 - - [24/May/2023 17:03:35] \"\u001b[36mGET /_dash-component-suites/dash/dcc/async-dropdown.js HTTP/1.1\u001b[0m\" 304 -\n",
      "127.0.0.1 - - [24/May/2023 17:03:35] \"\u001b[36mGET /_dash-component-suites/dash/dcc/async-graph.js HTTP/1.1\u001b[0m\" 304 -\n",
      "127.0.0.1 - - [24/May/2023 17:03:35] \"\u001b[36mGET /_dash-component-suites/dash/dcc/async-plotlyjs.js HTTP/1.1\u001b[0m\" 304 -\n",
      "127.0.0.1 - - [24/May/2023 17:03:36] \"GET /_dash-layout HTTP/1.1\" 200 -\n",
      "127.0.0.1 - - [24/May/2023 17:03:36] \"GET /_dash-dependencies HTTP/1.1\" 200 -\n",
      "127.0.0.1 - - [24/May/2023 17:03:36] \"\u001b[36mGET /_dash-component-suites/dash/dcc/async-dropdown.js HTTP/1.1\u001b[0m\" 304 -\n",
      "127.0.0.1 - - [24/May/2023 17:03:36] \"\u001b[36mGET /_dash-component-suites/dash/dcc/async-graph.js HTTP/1.1\u001b[0m\" 304 -\n",
      "127.0.0.1 - - [24/May/2023 17:03:36] \"\u001b[36mGET /_dash-component-suites/dash/dcc/async-plotlyjs.js HTTP/1.1\u001b[0m\" 304 -\n",
      "[2023-05-24 17:03:36,708] ERROR in app: Exception on /_dash-update-component [POST]\n",
      "Traceback (most recent call last):\n",
      "  File \"/Users/haritha/anaconda3/envs/pytorch_env/lib/python3.7/site-packages/flask/app.py\", line 2529, in wsgi_app\n",
      "    response = self.full_dispatch_request()\n",
      "  File \"/Users/haritha/anaconda3/envs/pytorch_env/lib/python3.7/site-packages/flask/app.py\", line 1825, in full_dispatch_request\n",
      "    rv = self.handle_user_exception(e)\n",
      "  File \"/Users/haritha/anaconda3/envs/pytorch_env/lib/python3.7/site-packages/flask/app.py\", line 1823, in full_dispatch_request\n",
      "    rv = self.dispatch_request()\n",
      "  File \"/Users/haritha/anaconda3/envs/pytorch_env/lib/python3.7/site-packages/flask/app.py\", line 1799, in dispatch_request\n",
      "    return self.ensure_sync(self.view_functions[rule.endpoint])(**view_args)\n",
      "  File \"/Users/haritha/anaconda3/envs/pytorch_env/lib/python3.7/site-packages/dash/dash.py\", line 1289, in dispatch\n",
      "    callback_context=g,\n",
      "  File \"/Users/haritha/anaconda3/envs/pytorch_env/lib/python3.7/site-packages/dash/_callback.py\", line 450, in add_context\n",
      "    output_value = func(*func_args, **func_kwargs)  # %% callback invoked %%\n",
      "  File \"/var/folders/4s/q0p9739j6hgcg9c5lxk9z2zc0000gn/T/ipykernel_36408/1884442004.py\", line 35, in predict_quality\n",
      "    prediction = logreg_model.predict(input_features)[0]\n",
      "  File \"/Users/haritha/anaconda3/envs/pytorch_env/lib/python3.7/site-packages/sklearn/linear_model/_base.py\", line 425, in predict\n",
      "    scores = self.decision_function(X)\n",
      "  File \"/Users/haritha/anaconda3/envs/pytorch_env/lib/python3.7/site-packages/sklearn/linear_model/_base.py\", line 407, in decision_function\n",
      "    X = self._validate_data(X, accept_sparse=\"csr\", reset=False)\n",
      "  File \"/Users/haritha/anaconda3/envs/pytorch_env/lib/python3.7/site-packages/sklearn/base.py\", line 566, in _validate_data\n",
      "    X = check_array(X, **check_params)\n",
      "  File \"/Users/haritha/anaconda3/envs/pytorch_env/lib/python3.7/site-packages/sklearn/utils/validation.py\", line 800, in check_array\n",
      "    _assert_all_finite(array, allow_nan=force_all_finite == \"allow-nan\")\n",
      "  File \"/Users/haritha/anaconda3/envs/pytorch_env/lib/python3.7/site-packages/sklearn/utils/validation.py\", line 116, in _assert_all_finite\n",
      "    type_err, msg_dtype if msg_dtype is not None else X.dtype\n",
      "ValueError: Input contains NaN, infinity or a value too large for dtype('float64').\n",
      "127.0.0.1 - - [24/May/2023 17:03:36] \"\u001b[35m\u001b[1mPOST /_dash-update-component HTTP/1.1\u001b[0m\" 500 -\n",
      "127.0.0.1 - - [24/May/2023 17:03:36] \"POST /_dash-update-component HTTP/1.1\" 200 -\n"
     ]
    }
   ],
   "source": [
    "if __name__ == '__main__':\n",
    "    app.run_server(debug=False)"
   ]
  },
  {
   "cell_type": "markdown",
   "metadata": {
    "id": "Mee1epmspy5L"
   },
   "source": [
    "# TODO 6"
   ]
  },
  {
   "cell_type": "markdown",
   "metadata": {},
   "source": [
    "#### Deploy the dashboard on a cloud platform to make it accessible to a wider audience."
   ]
  },
  {
   "cell_type": "code",
   "execution_count": null,
   "metadata": {},
   "outputs": [],
   "source": []
  }
 ],
 "metadata": {
  "colab": {
   "provenance": [],
   "toc_visible": true
  },
  "kernelspec": {
   "display_name": "pytorch_env",
   "language": "python",
   "name": "pytorch_env"
  },
  "language_info": {
   "codemirror_mode": {
    "name": "ipython",
    "version": 3
   },
   "file_extension": ".py",
   "mimetype": "text/x-python",
   "name": "python",
   "nbconvert_exporter": "python",
   "pygments_lexer": "ipython3",
   "version": "3.7.16"
  }
 },
 "nbformat": 4,
 "nbformat_minor": 1
}
